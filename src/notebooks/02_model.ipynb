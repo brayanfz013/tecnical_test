{
 "cells": [
  {
   "cell_type": "code",
   "execution_count": null,
   "metadata": {},
   "outputs": [],
   "source": [
    "from sklearn.model_selection import train_test_split, GridSearchCV\n",
    "from sklearn.pipeline import Pipeline\n",
    "from sklearn.preprocessing import MinMaxScaler\n",
    "from sklearn.linear_model import LogisticRegression\n",
    "from sklearn.svm import SVC\n",
    "from sklearn.tree import DecisionTreeClassifier\n",
    "from sklearn.ensemble import RandomForestClassifier\n"
   ]
  },
  {
   "cell_type": "code",
   "execution_count": null,
   "metadata": {},
   "outputs": [],
   "source": [
    "# - Databricks Host: https://community.cloud.databricks.com/\n",
    "# - Username: brayanfz013@gmail.com\n",
    "# - Password: B8qw4/J*TZ_84Dw\n",
    "\n",
    "# import mlflow\n",
    "\n",
    "# mlflow.login()\n",
    "\n",
    "# mlflow.set_experiment(\"/Users/brayanfz013@gmail.com/check-databricks-ce-connection\")\n",
    "\n",
    "\n",
    "# with mlflow.start_run():\n",
    "#     mlflow.log_metric(\"foo\", 1)\n",
    "\n",
    "#     mlflow.log_metric(\"bar\", 2)\n"
   ]
  },
  {
   "cell_type": "code",
   "execution_count": null,
   "metadata": {},
   "outputs": [],
   "source": [
    "# Definir los modelos y la búsqueda de parámetros\n",
    "param_grid = [\n",
    "    {\n",
    "        \"classifier\": [LogisticRegression()],\n",
    "        \"classifier__penalty\": [\"l1\", \"l2\"],\n",
    "        \"classifier__C\": [0.1, 1, 10],\n",
    "        \"classifier__solver\": [\n",
    "            \"liblinear\"\n",
    "        ],  # Se requiere 'liblinear' para el uso de L1 en Logistic Regression\n",
    "    },\n",
    "    {\n",
    "        \"classifier\": [SVC()],\n",
    "        \"classifier__kernel\": [\"linear\", \"rbf\"],\n",
    "        \"classifier__C\": [0.1, 1, 10],\n",
    "    },\n",
    "    {\n",
    "        \"classifier\": [DecisionTreeClassifier()],\n",
    "        \"classifier__criterion\": [\"gini\", \"entropy\"],\n",
    "        \"classifier__max_depth\": [None, 10, 20],\n",
    "    },\n",
    "    {\n",
    "        \"classifier\": [RandomForestClassifier()],\n",
    "        \"classifier__n_estimators\": [50, 100, 200],\n",
    "        \"classifier__criterion\": [\"gini\", \"entropy\"],\n",
    "        \"classifier__max_depth\": [None, 10, 20],\n",
    "    },\n",
    "]\n",
    "\n",
    "# Crear la Pipeline\n",
    "pipeline = Pipeline(\n",
    "    [\n",
    "        (\"scaler\", MinMaxScaler()),  # Escalado de características\n",
    "        (\"classifier\", LogisticRegression()),  # Placeholder para el clasificador\n",
    "    ]\n",
    ")"
   ]
  },
  {
   "cell_type": "code",
   "execution_count": null,
   "metadata": {},
   "outputs": [],
   "source": [
    "# Dividir los datos en conjunto de entrenamiento y prueba\n",
    "X_train, X_test, y_train, y_test = train_test_split(\n",
    "    X, y, test_size=0.2, random_state=42\n",
    ")"
   ]
  },
  {
   "cell_type": "code",
   "execution_count": null,
   "metadata": {},
   "outputs": [],
   "source": [
    "# Configurar GridSearchCV para explorar los hiperparámetros\n",
    "grid_search = GridSearchCV(pipeline, param_grid, cv=5, n_jobs=-1, verbose=2)\n",
    "\n",
    "# Entrenar la pipeline con la búsqueda de parámetros\n",
    "grid_search.fit(X_train, y_train)\n",
    "\n",
    "# Evaluar el mejor modelo en el conjunto de prueba\n",
    "best_model = grid_search.best_estimator_\n",
    "print(\"Mejor modelo encontrado:\", grid_search.best_params_)\n",
    "print(\"Precisión en test:\", best_model.score(X_test, y_test))\n"
   ]
  }
 ],
 "metadata": {
  "language_info": {
   "name": "python"
  }
 },
 "nbformat": 4,
 "nbformat_minor": 2
}
